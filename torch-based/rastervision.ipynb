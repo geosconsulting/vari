{
 "cells": [
  {
   "cell_type": "code",
   "execution_count": 1,
   "id": "ca218313-4a7b-4a87-8561-7156e81c581c",
   "metadata": {
    "execution": {
     "iopub.execute_input": "2025-07-08T09:26:51.668880Z",
     "iopub.status.busy": "2025-07-08T09:26:51.668645Z",
     "iopub.status.idle": "2025-07-08T09:26:52.630206Z",
     "shell.execute_reply": "2025-07-08T09:26:52.629557Z",
     "shell.execute_reply.started": "2025-07-08T09:26:51.668866Z"
    }
   },
   "outputs": [
    {
     "name": "stdout",
     "output_type": "stream",
     "text": [
      "Note: you may need to restart the kernel to use updated packages.\n"
     ]
    }
   ],
   "source": [
    "%pip install -q seaborn"
   ]
  },
  {
   "cell_type": "code",
   "execution_count": 2,
   "id": "23950326-8741-4cfc-b0c4-ff4de24cfc32",
   "metadata": {
    "execution": {
     "iopub.execute_input": "2025-07-08T09:26:58.114819Z",
     "iopub.status.busy": "2025-07-08T09:26:58.114378Z",
     "iopub.status.idle": "2025-07-08T09:26:58.118608Z",
     "shell.execute_reply": "2025-07-08T09:26:58.117920Z",
     "shell.execute_reply.started": "2025-07-08T09:26:58.114803Z"
    }
   },
   "outputs": [
    {
     "name": "stdout",
     "output_type": "stream",
     "text": [
      "env: AWS_NO_SIGN_REQUEST=YES\n"
     ]
    }
   ],
   "source": [
    "%env AWS_NO_SIGN_REQUEST=YES"
   ]
  },
  {
   "cell_type": "code",
   "execution_count": 3,
   "id": "7217aa21-2909-4f76-ae83-f887faa36bfa",
   "metadata": {
    "execution": {
     "iopub.execute_input": "2025-07-08T09:27:07.421823Z",
     "iopub.status.busy": "2025-07-08T09:27:07.421424Z",
     "iopub.status.idle": "2025-07-08T09:27:10.295952Z",
     "shell.execute_reply": "2025-07-08T09:27:10.294835Z",
     "shell.execute_reply.started": "2025-07-08T09:27:07.421810Z"
    }
   },
   "outputs": [
    {
     "name": "stderr",
     "output_type": "stream",
     "text": [
      "2025-07-08 11:27:09:rastervision.pipeline.rv_config: WARNING - Root temporary directory cannot be used: /opt/data/tmp. Using root: /tmp/tmp39_4pwvf\n"
     ]
    },
    {
     "ename": "TypeError",
     "evalue": "model_fields_schema() got an unexpected keyword argument 'extras_keys_schema'",
     "output_type": "error",
     "traceback": [
      "\u001b[31m---------------------------------------------------------------------------\u001b[39m",
      "\u001b[31mTypeError\u001b[39m                                 Traceback (most recent call last)",
      "\u001b[36mCell\u001b[39m\u001b[36m \u001b[39m\u001b[32mIn[3]\u001b[39m\u001b[32m, line 1\u001b[39m\n\u001b[32m----> \u001b[39m\u001b[32m1\u001b[39m \u001b[38;5;28;01mfrom\u001b[39;00m\u001b[38;5;250m \u001b[39m\u001b[34;01mrastervision\u001b[39;00m\u001b[34;01m.\u001b[39;00m\u001b[34;01mcore\u001b[39;00m\u001b[34;01m.\u001b[39;00m\u001b[34;01mdata\u001b[39;00m\u001b[38;5;250m \u001b[39m\u001b[38;5;28;01mimport\u001b[39;00m RasterioSource\n\u001b[32m      3\u001b[39m img_uri = \u001b[33m'\u001b[39m\u001b[33ms3://azavea-research-public-data/raster-vision/examples/spacenet/RGB-PanSharpen_AOI_2_Vegas_img205.tif\u001b[39m\u001b[33m'\u001b[39m\n\u001b[32m      4\u001b[39m raster_source = RasterioSource(img_uri, allow_streaming=\u001b[38;5;28;01mTrue\u001b[39;00m)\n",
      "\u001b[36mFile \u001b[39m\u001b[32m~/miniconda3/envs/geo-ai/lib/python3.12/site-packages/rastervision/core/__init__.py:11\u001b[39m\n\u001b[32m      7\u001b[39m     registry.add_plugin_command(predict)\n\u001b[32m      8\u001b[39m     registry.add_plugin_command(predict_scene)\n\u001b[32m---> \u001b[39m\u001b[32m11\u001b[39m \u001b[38;5;28;01mimport\u001b[39;00m\u001b[38;5;250m \u001b[39m\u001b[34;01mrastervision\u001b[39;00m\u001b[34;01m.\u001b[39;00m\u001b[34;01mpipeline\u001b[39;00m\n\u001b[32m     12\u001b[39m \u001b[38;5;28;01mfrom\u001b[39;00m\u001b[38;5;250m \u001b[39m\u001b[34;01mrastervision\u001b[39;00m\u001b[34;01m.\u001b[39;00m\u001b[34;01mcore\u001b[39;00m\u001b[34;01m.\u001b[39;00m\u001b[34;01mbox\u001b[39;00m\u001b[38;5;250m \u001b[39m\u001b[38;5;28;01mimport\u001b[39;00m *\n\u001b[32m     13\u001b[39m \u001b[38;5;28;01mfrom\u001b[39;00m\u001b[38;5;250m \u001b[39m\u001b[34;01mrastervision\u001b[39;00m\u001b[34;01m.\u001b[39;00m\u001b[34;01mcore\u001b[39;00m\u001b[34;01m.\u001b[39;00m\u001b[34;01mdata_sample\u001b[39;00m\u001b[38;5;250m \u001b[39m\u001b[38;5;28;01mimport\u001b[39;00m *\n",
      "\u001b[36mFile \u001b[39m\u001b[32m~/miniconda3/envs/geo-ai/lib/python3.12/site-packages/rastervision/pipeline/__init__.py:40\u001b[39m\n\u001b[32m     38\u001b[39m rv_config_ = RVConfig()\n\u001b[32m     39\u001b[39m registry_ = Registry()\n\u001b[32m---> \u001b[39m\u001b[32m40\u001b[39m \u001b[43mregistry_\u001b[49m\u001b[43m.\u001b[49m\u001b[43mload_plugins\u001b[49m\u001b[43m(\u001b[49m\u001b[43m)\u001b[49m\n\u001b[32m     41\u001b[39m registry_.load_builtins()\n",
      "\u001b[36mFile \u001b[39m\u001b[32m~/miniconda3/envs/geo-ai/lib/python3.12/site-packages/rastervision/pipeline/registry.py:257\u001b[39m, in \u001b[36mRegistry.load_plugins\u001b[39m\u001b[34m(self, plugin_names)\u001b[39m\n\u001b[32m    254\u001b[39m     plugin_names = \u001b[38;5;28mself\u001b[39m.discover_plugins()\n\u001b[32m    256\u001b[39m \u001b[38;5;28;01mfor\u001b[39;00m name \u001b[38;5;129;01min\u001b[39;00m plugin_names:\n\u001b[32m--> \u001b[39m\u001b[32m257\u001b[39m     module = \u001b[43mimportlib\u001b[49m\u001b[43m.\u001b[49m\u001b[43mimport_module\u001b[49m\u001b[43m(\u001b[49m\u001b[43mname\u001b[49m\u001b[43m)\u001b[49m\n\u001b[32m    258\u001b[39m     register_plugin = \u001b[38;5;28mgetattr\u001b[39m(module, \u001b[33m'\u001b[39m\u001b[33mregister_plugin\u001b[39m\u001b[33m'\u001b[39m, \u001b[38;5;28;01mNone\u001b[39;00m)\n\u001b[32m    259\u001b[39m     \u001b[38;5;28;01mif\u001b[39;00m register_plugin:\n",
      "\u001b[36mFile \u001b[39m\u001b[32m~/miniconda3/envs/geo-ai/lib/python3.12/importlib/__init__.py:90\u001b[39m, in \u001b[36mimport_module\u001b[39m\u001b[34m(name, package)\u001b[39m\n\u001b[32m     88\u001b[39m             \u001b[38;5;28;01mbreak\u001b[39;00m\n\u001b[32m     89\u001b[39m         level += \u001b[32m1\u001b[39m\n\u001b[32m---> \u001b[39m\u001b[32m90\u001b[39m \u001b[38;5;28;01mreturn\u001b[39;00m \u001b[43m_bootstrap\u001b[49m\u001b[43m.\u001b[49m\u001b[43m_gcd_import\u001b[49m\u001b[43m(\u001b[49m\u001b[43mname\u001b[49m\u001b[43m[\u001b[49m\u001b[43mlevel\u001b[49m\u001b[43m:\u001b[49m\u001b[43m]\u001b[49m\u001b[43m,\u001b[49m\u001b[43m \u001b[49m\u001b[43mpackage\u001b[49m\u001b[43m,\u001b[49m\u001b[43m \u001b[49m\u001b[43mlevel\u001b[49m\u001b[43m)\u001b[49m\n",
      "\u001b[36mFile \u001b[39m\u001b[32m~/miniconda3/envs/geo-ai/lib/python3.12/site-packages/rastervision/aws_batch/__init__.py:16\u001b[39m\n\u001b[32m      9\u001b[39m     registry.add_rv_config_schema(AWS_BATCH, [\n\u001b[32m     10\u001b[39m         \u001b[33m'\u001b[39m\u001b[33mgpu_job_queue\u001b[39m\u001b[33m'\u001b[39m, \u001b[33m'\u001b[39m\u001b[33mgpu_job_def\u001b[39m\u001b[33m'\u001b[39m, \u001b[33m'\u001b[39m\u001b[33mcpu_job_queue\u001b[39m\u001b[33m'\u001b[39m, \u001b[33m'\u001b[39m\u001b[33mcpu_job_def\u001b[39m\u001b[33m'\u001b[39m,\n\u001b[32m     11\u001b[39m         \u001b[33m'\u001b[39m\u001b[33mattempts\u001b[39m\u001b[33m'\u001b[39m\n\u001b[32m     12\u001b[39m     ])\n\u001b[32m     15\u001b[39m \u001b[38;5;28;01mimport\u001b[39;00m\u001b[38;5;250m \u001b[39m\u001b[34;01mrastervision\u001b[39;00m\u001b[34;01m.\u001b[39;00m\u001b[34;01mpipeline\u001b[39;00m\n\u001b[32m---> \u001b[39m\u001b[32m16\u001b[39m \u001b[38;5;28;01mfrom\u001b[39;00m\u001b[38;5;250m \u001b[39m\u001b[34;01mrastervision\u001b[39;00m\u001b[34;01m.\u001b[39;00m\u001b[34;01maws_batch\u001b[39;00m\u001b[34;01m.\u001b[39;00m\u001b[34;01maws_batch_runner\u001b[39;00m\u001b[38;5;250m \u001b[39m\u001b[38;5;28;01mimport\u001b[39;00m *\n\u001b[32m     18\u001b[39m __all__ = [\n\u001b[32m     19\u001b[39m     \u001b[33m'\u001b[39m\u001b[33mAWS_BATCH\u001b[39m\u001b[33m'\u001b[39m,\n\u001b[32m     20\u001b[39m     AWSBatchRunner.\u001b[34m__name__\u001b[39m,\n\u001b[32m     21\u001b[39m ]\n",
      "\u001b[36mFile \u001b[39m\u001b[32m~/miniconda3/envs/geo-ai/lib/python3.12/site-packages/rastervision/aws_batch/aws_batch_runner.py:8\u001b[39m\n\u001b[32m      5\u001b[39m \u001b[38;5;28;01mfrom\u001b[39;00m\u001b[38;5;250m \u001b[39m\u001b[34;01mpprint\u001b[39;00m\u001b[38;5;250m \u001b[39m\u001b[38;5;28;01mimport\u001b[39;00m pformat\n\u001b[32m      7\u001b[39m \u001b[38;5;28;01mfrom\u001b[39;00m\u001b[38;5;250m \u001b[39m\u001b[34;01mrastervision\u001b[39;00m\u001b[34;01m.\u001b[39;00m\u001b[34;01mpipeline\u001b[39;00m\u001b[38;5;250m \u001b[39m\u001b[38;5;28;01mimport\u001b[39;00m rv_config_ \u001b[38;5;28;01mas\u001b[39;00m rv_config\n\u001b[32m----> \u001b[39m\u001b[32m8\u001b[39m \u001b[38;5;28;01mfrom\u001b[39;00m\u001b[38;5;250m \u001b[39m\u001b[34;01mrastervision\u001b[39;00m\u001b[34;01m.\u001b[39;00m\u001b[34;01mpipeline\u001b[39;00m\u001b[34;01m.\u001b[39;00m\u001b[34;01mrunner\u001b[39;00m\u001b[38;5;250m \u001b[39m\u001b[38;5;28;01mimport\u001b[39;00m Runner\n\u001b[32m     10\u001b[39m \u001b[38;5;28;01mif\u001b[39;00m TYPE_CHECKING:\n\u001b[32m     11\u001b[39m     \u001b[38;5;28;01mfrom\u001b[39;00m\u001b[38;5;250m \u001b[39m\u001b[34;01mrastervision\u001b[39;00m\u001b[34;01m.\u001b[39;00m\u001b[34;01mpipeline\u001b[39;00m\u001b[34;01m.\u001b[39;00m\u001b[34;01mpipeline\u001b[39;00m\u001b[38;5;250m \u001b[39m\u001b[38;5;28;01mimport\u001b[39;00m Pipeline\n",
      "\u001b[36mFile \u001b[39m\u001b[32m~/miniconda3/envs/geo-ai/lib/python3.12/site-packages/rastervision/pipeline/runner/__init__.py:3\u001b[39m\n\u001b[32m      1\u001b[39m \u001b[38;5;66;03m# flake8: noqa\u001b[39;00m\n\u001b[32m----> \u001b[39m\u001b[32m3\u001b[39m \u001b[38;5;28;01mfrom\u001b[39;00m\u001b[38;5;250m \u001b[39m\u001b[34;01mrastervision\u001b[39;00m\u001b[34;01m.\u001b[39;00m\u001b[34;01mpipeline\u001b[39;00m\u001b[34;01m.\u001b[39;00m\u001b[34;01mrunner\u001b[39;00m\u001b[34;01m.\u001b[39;00m\u001b[34;01minprocess_runner\u001b[39;00m\u001b[38;5;250m \u001b[39m\u001b[38;5;28;01mimport\u001b[39;00m *\n\u001b[32m      4\u001b[39m \u001b[38;5;28;01mfrom\u001b[39;00m\u001b[38;5;250m \u001b[39m\u001b[34;01mrastervision\u001b[39;00m\u001b[34;01m.\u001b[39;00m\u001b[34;01mpipeline\u001b[39;00m\u001b[34;01m.\u001b[39;00m\u001b[34;01mrunner\u001b[39;00m\u001b[34;01m.\u001b[39;00m\u001b[34;01mlocal_runner\u001b[39;00m\u001b[38;5;250m \u001b[39m\u001b[38;5;28;01mimport\u001b[39;00m *\n\u001b[32m      5\u001b[39m \u001b[38;5;28;01mfrom\u001b[39;00m\u001b[38;5;250m \u001b[39m\u001b[34;01mrastervision\u001b[39;00m\u001b[34;01m.\u001b[39;00m\u001b[34;01mpipeline\u001b[39;00m\u001b[34;01m.\u001b[39;00m\u001b[34;01mrunner\u001b[39;00m\u001b[34;01m.\u001b[39;00m\u001b[34;01mrunner\u001b[39;00m\u001b[38;5;250m \u001b[39m\u001b[38;5;28;01mimport\u001b[39;00m *\n",
      "\u001b[36mFile \u001b[39m\u001b[32m~/miniconda3/envs/geo-ai/lib/python3.12/site-packages/rastervision/pipeline/runner/inprocess_runner.py:1\u001b[39m\n\u001b[32m----> \u001b[39m\u001b[32m1\u001b[39m \u001b[38;5;28;01mfrom\u001b[39;00m\u001b[38;5;250m \u001b[39m\u001b[34;01mrastervision\u001b[39;00m\u001b[34;01m.\u001b[39;00m\u001b[34;01mpipeline\u001b[39;00m\u001b[34;01m.\u001b[39;00m\u001b[34;01mcli\u001b[39;00m\u001b[38;5;250m \u001b[39m\u001b[38;5;28;01mimport\u001b[39;00m _run_command\n\u001b[32m      2\u001b[39m \u001b[38;5;28;01mfrom\u001b[39;00m\u001b[38;5;250m \u001b[39m\u001b[34;01mrastervision\u001b[39;00m\u001b[34;01m.\u001b[39;00m\u001b[34;01mpipeline\u001b[39;00m\u001b[34;01m.\u001b[39;00m\u001b[34;01mrunner\u001b[39;00m\u001b[34;01m.\u001b[39;00m\u001b[34;01mrunner\u001b[39;00m\u001b[38;5;250m \u001b[39m\u001b[38;5;28;01mimport\u001b[39;00m Runner\n\u001b[32m      4\u001b[39m INPROCESS = \u001b[33m'\u001b[39m\u001b[33minprocess\u001b[39m\u001b[33m'\u001b[39m\n",
      "\u001b[36mFile \u001b[39m\u001b[32m~/miniconda3/envs/geo-ai/lib/python3.12/site-packages/rastervision/pipeline/cli.py:11\u001b[39m\n\u001b[32m      8\u001b[39m \u001b[38;5;28;01mfrom\u001b[39;00m\u001b[38;5;250m \u001b[39m\u001b[34;01mrastervision\u001b[39;00m\u001b[34;01m.\u001b[39;00m\u001b[34;01mpipeline\u001b[39;00m\u001b[38;5;250m \u001b[39m\u001b[38;5;28;01mimport\u001b[39;00m (registry_ \u001b[38;5;28;01mas\u001b[39;00m registry, rv_config_ \u001b[38;5;28;01mas\u001b[39;00m\n\u001b[32m      9\u001b[39m                                    rv_config)\n\u001b[32m     10\u001b[39m \u001b[38;5;28;01mfrom\u001b[39;00m\u001b[38;5;250m \u001b[39m\u001b[34;01mrastervision\u001b[39;00m\u001b[34;01m.\u001b[39;00m\u001b[34;01mpipeline\u001b[39;00m\u001b[34;01m.\u001b[39;00m\u001b[34;01mfile_system\u001b[39;00m\u001b[38;5;250m \u001b[39m\u001b[38;5;28;01mimport\u001b[39;00m (file_to_json, get_tmp_dir)\n\u001b[32m---> \u001b[39m\u001b[32m11\u001b[39m \u001b[38;5;28;01mfrom\u001b[39;00m\u001b[38;5;250m \u001b[39m\u001b[34;01mrastervision\u001b[39;00m\u001b[34;01m.\u001b[39;00m\u001b[34;01mpipeline\u001b[39;00m\u001b[34;01m.\u001b[39;00m\u001b[34;01mconfig\u001b[39;00m\u001b[38;5;250m \u001b[39m\u001b[38;5;28;01mimport\u001b[39;00m (build_config, Config,\n\u001b[32m     12\u001b[39m                                           save_pipeline_config)\n\u001b[32m     13\u001b[39m \u001b[38;5;28;01mfrom\u001b[39;00m\u001b[38;5;250m \u001b[39m\u001b[34;01mrastervision\u001b[39;00m\u001b[34;01m.\u001b[39;00m\u001b[34;01mpipeline\u001b[39;00m\u001b[34;01m.\u001b[39;00m\u001b[34;01mpipeline_config\u001b[39;00m\u001b[38;5;250m \u001b[39m\u001b[38;5;28;01mimport\u001b[39;00m PipelineConfig\n\u001b[32m     15\u001b[39m \u001b[38;5;28;01mif\u001b[39;00m TYPE_CHECKING:\n",
      "\u001b[36mFile \u001b[39m\u001b[32m~/miniconda3/envs/geo-ai/lib/python3.12/site-packages/rastervision/pipeline/config.py:26\u001b[39m\n\u001b[32m     22\u001b[39m \u001b[38;5;28;01mclass\u001b[39;00m\u001b[38;5;250m \u001b[39m\u001b[34;01mConfigError\u001b[39;00m(\u001b[38;5;167;01mValueError\u001b[39;00m):\n\u001b[32m     23\u001b[39m \u001b[38;5;250m    \u001b[39m\u001b[33;03m\"\"\"Exception raised for invalid configuration.\"\"\"\u001b[39;00m\n\u001b[32m---> \u001b[39m\u001b[32m26\u001b[39m \u001b[38;5;28;43;01mclass\u001b[39;49;00m\u001b[38;5;250;43m \u001b[39;49m\u001b[34;43;01mConfig\u001b[39;49;00m\u001b[43m(\u001b[49m\u001b[43mBaseModel\u001b[49m\u001b[43m)\u001b[49m\u001b[43m:\u001b[49m\n\u001b[32m     27\u001b[39m \u001b[38;5;250;43m    \u001b[39;49m\u001b[33;43;03m\"\"\"Base class that can be extended to provide custom configurations.\u001b[39;49;00m\n\u001b[32m     28\u001b[39m \n\u001b[32m     29\u001b[39m \u001b[33;43;03m    This adds some extra methods to Pydantic BaseModel.\u001b[39;49;00m\n\u001b[32m   (...)\u001b[39m\u001b[32m     37\u001b[39m \u001b[33;43;03m    provided automatically based on this schema.\u001b[39;49;00m\n\u001b[32m     38\u001b[39m \u001b[33;43;03m    \"\"\"\u001b[39;49;00m\n\u001b[32m     39\u001b[39m \u001b[43m    \u001b[49m\u001b[43mmodel_config\u001b[49m\u001b[43m \u001b[49m\u001b[43m=\u001b[49m\u001b[43m \u001b[49m\u001b[43mConfigDict\u001b[49m\u001b[43m(\u001b[49m\u001b[43mextra\u001b[49m\u001b[43m=\u001b[49m\u001b[33;43m'\u001b[39;49m\u001b[33;43mforbid\u001b[39;49m\u001b[33;43m'\u001b[39;49m\u001b[43m,\u001b[49m\u001b[43m \u001b[49m\u001b[43mvalidate_assignment\u001b[49m\u001b[43m=\u001b[49m\u001b[38;5;28;43;01mTrue\u001b[39;49;00m\u001b[43m)\u001b[49m\n",
      "\u001b[36mFile \u001b[39m\u001b[32m~/miniconda3/envs/geo-ai/lib/python3.12/site-packages/pydantic/_internal/_model_construction.py:237\u001b[39m, in \u001b[36mModelMetaclass.__new__\u001b[39m\u001b[34m(mcs, cls_name, bases, namespace, __pydantic_generic_metadata__, __pydantic_reset_parent_namespace__, _create_model_module, **kwargs)\u001b[39m\n\u001b[32m    233\u001b[39m     set_model_mocks(\u001b[38;5;28mcls\u001b[39m)\n\u001b[32m    234\u001b[39m \u001b[38;5;28;01melse\u001b[39;00m:\n\u001b[32m    235\u001b[39m     \u001b[38;5;66;03m# Any operation that requires accessing the field infos instances should be put inside\u001b[39;00m\n\u001b[32m    236\u001b[39m     \u001b[38;5;66;03m# `complete_model_class()`:\u001b[39;00m\n\u001b[32m--> \u001b[39m\u001b[32m237\u001b[39m     \u001b[43mcomplete_model_class\u001b[49m\u001b[43m(\u001b[49m\n\u001b[32m    238\u001b[39m \u001b[43m        \u001b[49m\u001b[38;5;28;43mcls\u001b[39;49m\u001b[43m,\u001b[49m\n\u001b[32m    239\u001b[39m \u001b[43m        \u001b[49m\u001b[43mconfig_wrapper\u001b[49m\u001b[43m,\u001b[49m\n\u001b[32m    240\u001b[39m \u001b[43m        \u001b[49m\u001b[43mraise_errors\u001b[49m\u001b[43m=\u001b[49m\u001b[38;5;28;43;01mFalse\u001b[39;49;00m\u001b[43m,\u001b[49m\n\u001b[32m    241\u001b[39m \u001b[43m        \u001b[49m\u001b[43mns_resolver\u001b[49m\u001b[43m=\u001b[49m\u001b[43mns_resolver\u001b[49m\u001b[43m,\u001b[49m\n\u001b[32m    242\u001b[39m \u001b[43m        \u001b[49m\u001b[43mcreate_model_module\u001b[49m\u001b[43m=\u001b[49m\u001b[43m_create_model_module\u001b[49m\u001b[43m,\u001b[49m\n\u001b[32m    243\u001b[39m \u001b[43m    \u001b[49m\u001b[43m)\u001b[49m\n\u001b[32m    245\u001b[39m \u001b[38;5;28;01mif\u001b[39;00m config_wrapper.frozen \u001b[38;5;129;01mand\u001b[39;00m \u001b[33m'\u001b[39m\u001b[33m__hash__\u001b[39m\u001b[33m'\u001b[39m \u001b[38;5;129;01mnot\u001b[39;00m \u001b[38;5;129;01min\u001b[39;00m namespace:\n\u001b[32m    246\u001b[39m     set_default_hash_func(\u001b[38;5;28mcls\u001b[39m, bases)\n",
      "\u001b[36mFile \u001b[39m\u001b[32m~/miniconda3/envs/geo-ai/lib/python3.12/site-packages/pydantic/_internal/_model_construction.py:597\u001b[39m, in \u001b[36mcomplete_model_class\u001b[39m\u001b[34m(cls, config_wrapper, raise_errors, ns_resolver, create_model_module)\u001b[39m\n\u001b[32m    590\u001b[39m gen_schema = GenerateSchema(\n\u001b[32m    591\u001b[39m     config_wrapper,\n\u001b[32m    592\u001b[39m     ns_resolver,\n\u001b[32m    593\u001b[39m     typevars_map,\n\u001b[32m    594\u001b[39m )\n\u001b[32m    596\u001b[39m \u001b[38;5;28;01mtry\u001b[39;00m:\n\u001b[32m--> \u001b[39m\u001b[32m597\u001b[39m     schema = \u001b[43mgen_schema\u001b[49m\u001b[43m.\u001b[49m\u001b[43mgenerate_schema\u001b[49m\u001b[43m(\u001b[49m\u001b[38;5;28;43mcls\u001b[39;49m\u001b[43m)\u001b[49m\n\u001b[32m    598\u001b[39m \u001b[38;5;28;01mexcept\u001b[39;00m PydanticUndefinedAnnotation \u001b[38;5;28;01mas\u001b[39;00m e:\n\u001b[32m    599\u001b[39m     \u001b[38;5;28;01mif\u001b[39;00m raise_errors:\n",
      "\u001b[36mFile \u001b[39m\u001b[32m~/miniconda3/envs/geo-ai/lib/python3.12/site-packages/pydantic/_internal/_generate_schema.py:711\u001b[39m, in \u001b[36mGenerateSchema.generate_schema\u001b[39m\u001b[34m(self, obj)\u001b[39m\n\u001b[32m    708\u001b[39m schema = \u001b[38;5;28mself\u001b[39m._generate_schema_from_get_schema_method(obj, obj)\n\u001b[32m    710\u001b[39m \u001b[38;5;28;01mif\u001b[39;00m schema \u001b[38;5;129;01mis\u001b[39;00m \u001b[38;5;28;01mNone\u001b[39;00m:\n\u001b[32m--> \u001b[39m\u001b[32m711\u001b[39m     schema = \u001b[38;5;28;43mself\u001b[39;49m\u001b[43m.\u001b[49m\u001b[43m_generate_schema_inner\u001b[49m\u001b[43m(\u001b[49m\u001b[43mobj\u001b[49m\u001b[43m)\u001b[49m\n\u001b[32m    713\u001b[39m metadata_js_function = _extract_get_pydantic_json_schema(obj)\n\u001b[32m    714\u001b[39m \u001b[38;5;28;01mif\u001b[39;00m metadata_js_function \u001b[38;5;129;01mis\u001b[39;00m \u001b[38;5;129;01mnot\u001b[39;00m \u001b[38;5;28;01mNone\u001b[39;00m:\n",
      "\u001b[36mFile \u001b[39m\u001b[32m~/miniconda3/envs/geo-ai/lib/python3.12/site-packages/pydantic/_internal/_generate_schema.py:1004\u001b[39m, in \u001b[36mGenerateSchema._generate_schema_inner\u001b[39m\u001b[34m(self, obj)\u001b[39m\n\u001b[32m   1002\u001b[39m \u001b[38;5;28;01mif\u001b[39;00m lenient_issubclass(obj, BaseModel):\n\u001b[32m   1003\u001b[39m     \u001b[38;5;28;01mwith\u001b[39;00m \u001b[38;5;28mself\u001b[39m.model_type_stack.push(obj):\n\u001b[32m-> \u001b[39m\u001b[32m1004\u001b[39m         \u001b[38;5;28;01mreturn\u001b[39;00m \u001b[38;5;28;43mself\u001b[39;49m\u001b[43m.\u001b[49m\u001b[43m_model_schema\u001b[49m\u001b[43m(\u001b[49m\u001b[43mobj\u001b[49m\u001b[43m)\u001b[49m\n\u001b[32m   1006\u001b[39m \u001b[38;5;28;01mif\u001b[39;00m \u001b[38;5;28misinstance\u001b[39m(obj, PydanticRecursiveRef):\n\u001b[32m   1007\u001b[39m     \u001b[38;5;28;01mreturn\u001b[39;00m core_schema.definition_reference_schema(schema_ref=obj.type_ref)\n",
      "\u001b[36mFile \u001b[39m\u001b[32m~/miniconda3/envs/geo-ai/lib/python3.12/site-packages/pydantic/_internal/_generate_schema.py:836\u001b[39m, in \u001b[36mGenerateSchema._model_schema\u001b[39m\u001b[34m(self, cls)\u001b[39m\n\u001b[32m    825\u001b[39m     model_schema = core_schema.model_schema(\n\u001b[32m    826\u001b[39m         \u001b[38;5;28mcls\u001b[39m,\n\u001b[32m    827\u001b[39m         inner_schema,\n\u001b[32m   (...)\u001b[39m\u001b[32m    833\u001b[39m         ref=model_ref,\n\u001b[32m    834\u001b[39m     )\n\u001b[32m    835\u001b[39m \u001b[38;5;28;01melse\u001b[39;00m:\n\u001b[32m--> \u001b[39m\u001b[32m836\u001b[39m     fields_schema: core_schema.CoreSchema = \u001b[43mcore_schema\u001b[49m\u001b[43m.\u001b[49m\u001b[43mmodel_fields_schema\u001b[49m\u001b[43m(\u001b[49m\n\u001b[32m    837\u001b[39m \u001b[43m        \u001b[49m\u001b[43m{\u001b[49m\u001b[43mk\u001b[49m\u001b[43m:\u001b[49m\u001b[43m \u001b[49m\u001b[38;5;28;43mself\u001b[39;49m\u001b[43m.\u001b[49m\u001b[43m_generate_md_field_schema\u001b[49m\u001b[43m(\u001b[49m\u001b[43mk\u001b[49m\u001b[43m,\u001b[49m\u001b[43m \u001b[49m\u001b[43mv\u001b[49m\u001b[43m,\u001b[49m\u001b[43m \u001b[49m\u001b[43mdecorators\u001b[49m\u001b[43m)\u001b[49m\u001b[43m \u001b[49m\u001b[38;5;28;43;01mfor\u001b[39;49;00m\u001b[43m \u001b[49m\u001b[43mk\u001b[49m\u001b[43m,\u001b[49m\u001b[43m \u001b[49m\u001b[43mv\u001b[49m\u001b[43m \u001b[49m\u001b[38;5;129;43;01min\u001b[39;49;00m\u001b[43m \u001b[49m\u001b[43mfields\u001b[49m\u001b[43m.\u001b[49m\u001b[43mitems\u001b[49m\u001b[43m(\u001b[49m\u001b[43m)\u001b[49m\u001b[43m}\u001b[49m\u001b[43m,\u001b[49m\n\u001b[32m    838\u001b[39m \u001b[43m        \u001b[49m\u001b[43mcomputed_fields\u001b[49m\u001b[43m=\u001b[49m\u001b[43m[\u001b[49m\n\u001b[32m    839\u001b[39m \u001b[43m            \u001b[49m\u001b[38;5;28;43mself\u001b[39;49m\u001b[43m.\u001b[49m\u001b[43m_computed_field_schema\u001b[49m\u001b[43m(\u001b[49m\u001b[43md\u001b[49m\u001b[43m,\u001b[49m\u001b[43m \u001b[49m\u001b[43mdecorators\u001b[49m\u001b[43m.\u001b[49m\u001b[43mfield_serializers\u001b[49m\u001b[43m)\u001b[49m\n\u001b[32m    840\u001b[39m \u001b[43m            \u001b[49m\u001b[38;5;28;43;01mfor\u001b[39;49;00m\u001b[43m \u001b[49m\u001b[43md\u001b[49m\u001b[43m \u001b[49m\u001b[38;5;129;43;01min\u001b[39;49;00m\u001b[43m \u001b[49m\u001b[43mcomputed_fields\u001b[49m\u001b[43m.\u001b[49m\u001b[43mvalues\u001b[49m\u001b[43m(\u001b[49m\u001b[43m)\u001b[49m\n\u001b[32m    841\u001b[39m \u001b[43m        \u001b[49m\u001b[43m]\u001b[49m\u001b[43m,\u001b[49m\n\u001b[32m    842\u001b[39m \u001b[43m        \u001b[49m\u001b[43mextras_schema\u001b[49m\u001b[43m=\u001b[49m\u001b[43mextras_schema\u001b[49m\u001b[43m,\u001b[49m\n\u001b[32m    843\u001b[39m \u001b[43m        \u001b[49m\u001b[43mextras_keys_schema\u001b[49m\u001b[43m=\u001b[49m\u001b[43mextras_keys_schema\u001b[49m\u001b[43m,\u001b[49m\n\u001b[32m    844\u001b[39m \u001b[43m        \u001b[49m\u001b[43mmodel_name\u001b[49m\u001b[43m=\u001b[49m\u001b[38;5;28;43mcls\u001b[39;49m\u001b[43m.\u001b[49m\u001b[34;43m__name__\u001b[39;49m\u001b[43m,\u001b[49m\n\u001b[32m    845\u001b[39m \u001b[43m    \u001b[49m\u001b[43m)\u001b[49m\n\u001b[32m    846\u001b[39m     inner_schema = apply_validators(fields_schema, decorators.root_validators.values(), \u001b[38;5;28;01mNone\u001b[39;00m)\n\u001b[32m    847\u001b[39m     inner_schema = apply_model_validators(inner_schema, model_validators, \u001b[33m'\u001b[39m\u001b[33minner\u001b[39m\u001b[33m'\u001b[39m)\n",
      "\u001b[31mTypeError\u001b[39m: model_fields_schema() got an unexpected keyword argument 'extras_keys_schema'"
     ]
    }
   ],
   "source": [
    "from rastervision.core.data import RasterioSource\n",
    "\n",
    "img_uri = 's3://azavea-research-public-data/raster-vision/examples/spacenet/RGB-PanSharpen_AOI_2_Vegas_img205.tif'\n",
    "raster_source = RasterioSource(img_uri, allow_streaming=True)"
   ]
  },
  {
   "cell_type": "code",
   "execution_count": null,
   "id": "c3ca069a-9942-4f42-b014-19cdf26c78c6",
   "metadata": {},
   "outputs": [],
   "source": []
  }
 ],
 "metadata": {
  "kernelspec": {
   "display_name": "Python [conda env:geo-ai] *",
   "language": "python",
   "name": "conda-env-geo-ai-py"
  },
  "language_info": {
   "codemirror_mode": {
    "name": "ipython",
    "version": 3
   },
   "file_extension": ".py",
   "mimetype": "text/x-python",
   "name": "python",
   "nbconvert_exporter": "python",
   "pygments_lexer": "ipython3",
   "version": "3.12.2"
  }
 },
 "nbformat": 4,
 "nbformat_minor": 5
}
