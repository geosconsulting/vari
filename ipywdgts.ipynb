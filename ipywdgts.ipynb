{
 "cells": [
  {
   "cell_type": "code",
   "execution_count": 1,
   "id": "7f2372dd-5b56-4855-86de-b0d5bb5e323a",
   "metadata": {
    "execution": {
     "iopub.execute_input": "2025-09-01T11:25:32.647537Z",
     "iopub.status.busy": "2025-09-01T11:25:32.646535Z",
     "iopub.status.idle": "2025-09-01T11:25:32.746362Z",
     "shell.execute_reply": "2025-09-01T11:25:32.745362Z",
     "shell.execute_reply.started": "2025-09-01T11:25:32.647537Z"
    }
   },
   "outputs": [],
   "source": [
    "import ipywidgets as widgets\n",
    "\n",
    "selection = widgets.RadioButtons(\n",
    "    options=['The color', 'The length', 'The slope'],\n",
    "    value='The slope',\n",
    "    description='',\n",
    "    disabled=False\n",
    ")"
   ]
  },
  {
   "cell_type": "code",
   "execution_count": 2,
   "id": "8f98d40f-18c1-478a-b510-5010aa2e3166",
   "metadata": {
    "execution": {
     "iopub.execute_input": "2025-09-01T11:25:32.921149Z",
     "iopub.status.busy": "2025-09-01T11:25:32.921149Z",
     "iopub.status.idle": "2025-09-01T11:25:32.934667Z",
     "shell.execute_reply": "2025-09-01T11:25:32.933668Z",
     "shell.execute_reply.started": "2025-09-01T11:25:32.921149Z"
    }
   },
   "outputs": [
    {
     "data": {
      "application/vnd.jupyter.widget-view+json": {
       "model_id": "7ad0d002b984473fae64e363c2d7db70",
       "version_major": 2,
       "version_minor": 0
      },
      "text/plain": [
       "RadioButtons(index=2, options=('The color', 'The length', 'The slope'), value='The slope')"
      ]
     },
     "execution_count": 2,
     "metadata": {},
     "output_type": "execute_result"
    }
   ],
   "source": [
    "selection"
   ]
  },
  {
   "cell_type": "code",
   "execution_count": null,
   "id": "79be6abf-ecac-4761-99d5-3fcfcae1ef9b",
   "metadata": {},
   "outputs": [],
   "source": []
  }
 ],
 "metadata": {
  "kernelspec": {
   "display_name": "Python 3 (ipykernel)",
   "language": "python",
   "name": "python3"
  },
  "language_info": {
   "codemirror_mode": {
    "name": "ipython",
    "version": 3
   },
   "file_extension": ".py",
   "mimetype": "text/x-python",
   "name": "python",
   "nbconvert_exporter": "python",
   "pygments_lexer": "ipython3",
   "version": "3.10.18"
  }
 },
 "nbformat": 4,
 "nbformat_minor": 5
}
