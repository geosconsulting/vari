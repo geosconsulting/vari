{
 "cells": [
  {
   "cell_type": "code",
   "execution_count": 1,
   "id": "961c4997-c845-4661-9682-a1422436b587",
   "metadata": {
    "execution": {
     "iopub.execute_input": "2025-10-11T09:05:13.687269Z",
     "iopub.status.busy": "2025-10-11T09:05:13.687269Z",
     "iopub.status.idle": "2025-10-11T09:05:17.226812Z",
     "shell.execute_reply": "2025-10-11T09:05:17.226812Z",
     "shell.execute_reply.started": "2025-10-11T09:05:13.687269Z"
    }
   },
   "outputs": [
    {
     "name": "stdout",
     "output_type": "stream",
     "text": [
      "Please restart Jupyter kernel after installation if you encounter any errors when importing geemap.\n"
     ]
    },
    {
     "ename": "SystemError",
     "evalue": "../numpy/_core/src/multiarray/iterators.c:192: bad argument to internal function",
     "output_type": "error",
     "traceback": [
      "\u001b[1;31m---------------------------------------------------------------------------\u001b[0m",
      "\u001b[1;31mSystemError\u001b[0m                               Traceback (most recent call last)",
      "Cell \u001b[1;32mIn[1], line 2\u001b[0m\n\u001b[0;32m      1\u001b[0m \u001b[38;5;28;01mimport\u001b[39;00m\u001b[38;5;250m \u001b[39m\u001b[38;5;21;01mee\u001b[39;00m\n\u001b[1;32m----> 2\u001b[0m \u001b[38;5;28;01mimport\u001b[39;00m\u001b[38;5;250m \u001b[39m\u001b[38;5;21;01mgeemap\u001b[39;00m\u001b[38;5;21;01m.\u001b[39;00m\u001b[38;5;21;01mcore\u001b[39;00m\u001b[38;5;250m \u001b[39m\u001b[38;5;28;01mas\u001b[39;00m\u001b[38;5;250m \u001b[39m\u001b[38;5;21;01mgeemap\u001b[39;00m\n",
      "File \u001b[1;32m~\\miniconda3\\envs\\geo-gpu\\lib\\site-packages\\geemap\\__init__.py:55\u001b[0m\n\u001b[0;32m     51\u001b[0m         \u001b[38;5;28;01melse\u001b[39;00m:\n\u001b[0;32m     52\u001b[0m             \u001b[38;5;28mprint\u001b[39m(\n\u001b[0;32m     53\u001b[0m                 \u001b[38;5;124m\"\u001b[39m\u001b[38;5;124mPlease restart Jupyter kernel after installation if you encounter any errors when importing geemap.\u001b[39m\u001b[38;5;124m\"\u001b[39m\n\u001b[0;32m     54\u001b[0m             )\n\u001b[1;32m---> 55\u001b[0m         \u001b[38;5;28;01mraise\u001b[39;00m e\n\u001b[0;32m     57\u001b[0m \u001b[38;5;28;01mif\u001b[39;00m _use_eerepr():\n\u001b[0;32m     58\u001b[0m     \u001b[38;5;28;01mimport\u001b[39;00m\u001b[38;5;250m \u001b[39m\u001b[38;5;21;01meerepr\u001b[39;00m\n",
      "File \u001b[1;32m~\\miniconda3\\envs\\geo-gpu\\lib\\site-packages\\geemap\\__init__.py:45\u001b[0m\n\u001b[0;32m     43\u001b[0m \u001b[38;5;28;01melse\u001b[39;00m:\n\u001b[0;32m     44\u001b[0m     \u001b[38;5;28;01mtry\u001b[39;00m:\n\u001b[1;32m---> 45\u001b[0m         \u001b[38;5;28;01mfrom\u001b[39;00m\u001b[38;5;250m \u001b[39m\u001b[38;5;21;01m.\u001b[39;00m\u001b[38;5;21;01mgeemap\u001b[39;00m\u001b[38;5;250m \u001b[39m\u001b[38;5;28;01mimport\u001b[39;00m \u001b[38;5;241m*\u001b[39m\n\u001b[0;32m     46\u001b[0m     \u001b[38;5;28;01mexcept\u001b[39;00m \u001b[38;5;167;01mException\u001b[39;00m \u001b[38;5;28;01mas\u001b[39;00m e:\n\u001b[0;32m     47\u001b[0m         \u001b[38;5;28;01mif\u001b[39;00m in_colab_shell():\n",
      "File \u001b[1;32m~\\miniconda3\\envs\\geo-gpu\\lib\\site-packages\\geemap\\geemap.py:23\u001b[0m\n\u001b[0;32m     20\u001b[0m \u001b[38;5;28;01mimport\u001b[39;00m\u001b[38;5;250m \u001b[39m\u001b[38;5;21;01mipywidgets\u001b[39;00m\u001b[38;5;250m \u001b[39m\u001b[38;5;28;01mas\u001b[39;00m\u001b[38;5;250m \u001b[39m\u001b[38;5;21;01mwidgets\u001b[39;00m\n\u001b[0;32m     22\u001b[0m \u001b[38;5;28;01mfrom\u001b[39;00m\u001b[38;5;250m \u001b[39m\u001b[38;5;21;01mbox\u001b[39;00m\u001b[38;5;250m \u001b[39m\u001b[38;5;28;01mimport\u001b[39;00m Box\n\u001b[1;32m---> 23\u001b[0m \u001b[38;5;28;01mfrom\u001b[39;00m\u001b[38;5;250m \u001b[39m\u001b[38;5;21;01mbqplot\u001b[39;00m\u001b[38;5;250m \u001b[39m\u001b[38;5;28;01mimport\u001b[39;00m pyplot \u001b[38;5;28;01mas\u001b[39;00m plt\n\u001b[0;32m     25\u001b[0m \u001b[38;5;28;01mfrom\u001b[39;00m\u001b[38;5;250m \u001b[39m\u001b[38;5;21;01mIPython\u001b[39;00m\u001b[38;5;21;01m.\u001b[39;00m\u001b[38;5;21;01mdisplay\u001b[39;00m\u001b[38;5;250m \u001b[39m\u001b[38;5;28;01mimport\u001b[39;00m display\n\u001b[0;32m     26\u001b[0m \u001b[38;5;28;01mfrom\u001b[39;00m\u001b[38;5;250m \u001b[39m\u001b[38;5;21;01m.\u001b[39;00m\u001b[38;5;21;01mbasemaps\u001b[39;00m\u001b[38;5;250m \u001b[39m\u001b[38;5;28;01mimport\u001b[39;00m get_xyz_dict, xyz_to_leaflet\n",
      "File \u001b[1;32m~\\miniconda3\\envs\\geo-gpu\\lib\\site-packages\\bqplot\\__init__.py:69\u001b[0m\n\u001b[0;32m     67\u001b[0m \u001b[38;5;28;01mfrom\u001b[39;00m\u001b[38;5;250m \u001b[39m\u001b[38;5;21;01m.\u001b[39;00m\u001b[38;5;21;01mscales\u001b[39;00m\u001b[38;5;250m \u001b[39m\u001b[38;5;28;01mimport\u001b[39;00m \u001b[38;5;241m*\u001b[39m  \u001b[38;5;66;03m# noqa\u001b[39;00m\n\u001b[0;32m     68\u001b[0m \u001b[38;5;28;01mfrom\u001b[39;00m\u001b[38;5;250m \u001b[39m\u001b[38;5;21;01m.\u001b[39;00m\u001b[38;5;21;01mtoolbar\u001b[39;00m\u001b[38;5;250m \u001b[39m\u001b[38;5;28;01mimport\u001b[39;00m \u001b[38;5;241m*\u001b[39m  \u001b[38;5;66;03m# noqa\u001b[39;00m\n\u001b[1;32m---> 69\u001b[0m \u001b[38;5;28;01mfrom\u001b[39;00m\u001b[38;5;250m \u001b[39m\u001b[38;5;21;01m.\u001b[39;00m\u001b[38;5;21;01mplotting_widgets\u001b[39;00m\u001b[38;5;250m \u001b[39m\u001b[38;5;28;01mimport\u001b[39;00m \u001b[38;5;241m*\u001b[39m  \u001b[38;5;66;03m# noqa\u001b[39;00m\n\u001b[0;32m     70\u001b[0m \u001b[38;5;28;01mfrom\u001b[39;00m\u001b[38;5;250m \u001b[39m\u001b[38;5;21;01m.\u001b[39;00m\u001b[38;5;21;01mdefault_tooltip\u001b[39;00m\u001b[38;5;250m \u001b[39m\u001b[38;5;28;01mimport\u001b[39;00m \u001b[38;5;241m*\u001b[39m  \u001b[38;5;66;03m# noqa\u001b[39;00m\n\u001b[0;32m     71\u001b[0m \u001b[38;5;28;01mfrom\u001b[39;00m\u001b[38;5;250m \u001b[39m\u001b[38;5;21;01m.\u001b[39;00m\u001b[38;5;21;01m_version\u001b[39;00m\u001b[38;5;250m \u001b[39m\u001b[38;5;28;01mimport\u001b[39;00m version_info, __version__  \u001b[38;5;66;03m# noqa\u001b[39;00m\n",
      "File \u001b[1;32m~\\miniconda3\\envs\\geo-gpu\\lib\\site-packages\\bqplot\\plotting_widgets.py:9\u001b[0m\n\u001b[0;32m      5\u001b[0m \u001b[38;5;28;01mfrom\u001b[39;00m\u001b[38;5;250m \u001b[39m\u001b[38;5;21;01mbqplot\u001b[39;00m\u001b[38;5;21;01m.\u001b[39;00m\u001b[38;5;21;01mmarks\u001b[39;00m\u001b[38;5;250m \u001b[39m\u001b[38;5;28;01mimport\u001b[39;00m CATEGORY10\n\u001b[0;32m      6\u001b[0m \u001b[38;5;28;01mimport\u001b[39;00m\u001b[38;5;250m \u001b[39m\u001b[38;5;21;01mnumpy\u001b[39;00m\u001b[38;5;250m \u001b[39m\u001b[38;5;28;01mas\u001b[39;00m\u001b[38;5;250m \u001b[39m\u001b[38;5;21;01mnp\u001b[39;00m\n\u001b[1;32m----> 9\u001b[0m \u001b[38;5;28;01mclass\u001b[39;00m\u001b[38;5;250m \u001b[39m\u001b[38;5;21;01mRadar\u001b[39;00m(Figure):\n\u001b[0;32m     10\u001b[0m \u001b[38;5;250m    \u001b[39m\u001b[38;5;124;03m\"\"\"\u001b[39;00m\n\u001b[0;32m     11\u001b[0m \u001b[38;5;124;03m    Radar chart created from a pandas Dataframe. Each column of the df will be\u001b[39;00m\n\u001b[0;32m     12\u001b[0m \u001b[38;5;124;03m    represented as a loop in the radar chart. Each row of the df will be\u001b[39;00m\n\u001b[1;32m   (...)\u001b[0m\n\u001b[0;32m     27\u001b[0m \u001b[38;5;124;03m        flag which lets us fill the radar loops or not\u001b[39;00m\n\u001b[0;32m     28\u001b[0m \u001b[38;5;124;03m    \"\"\"\u001b[39;00m\n\u001b[0;32m     30\u001b[0m     data \u001b[38;5;241m=\u001b[39m DataFrame()\n",
      "File \u001b[1;32m~\\miniconda3\\envs\\geo-gpu\\lib\\site-packages\\bqplot\\plotting_widgets.py:30\u001b[0m, in \u001b[0;36mRadar\u001b[1;34m()\u001b[0m\n\u001b[0;32m      9\u001b[0m \u001b[38;5;28;01mclass\u001b[39;00m\u001b[38;5;250m \u001b[39m\u001b[38;5;21;01mRadar\u001b[39;00m(Figure):\n\u001b[0;32m     10\u001b[0m \u001b[38;5;250m    \u001b[39m\u001b[38;5;124;03m\"\"\"\u001b[39;00m\n\u001b[0;32m     11\u001b[0m \u001b[38;5;124;03m    Radar chart created from a pandas Dataframe. Each column of the df will be\u001b[39;00m\n\u001b[0;32m     12\u001b[0m \u001b[38;5;124;03m    represented as a loop in the radar chart. Each row of the df will be\u001b[39;00m\n\u001b[1;32m   (...)\u001b[0m\n\u001b[0;32m     27\u001b[0m \u001b[38;5;124;03m        flag which lets us fill the radar loops or not\u001b[39;00m\n\u001b[0;32m     28\u001b[0m \u001b[38;5;124;03m    \"\"\"\u001b[39;00m\n\u001b[1;32m---> 30\u001b[0m     data \u001b[38;5;241m=\u001b[39m \u001b[43mDataFrame\u001b[49m\u001b[43m(\u001b[49m\u001b[43m)\u001b[49m\n\u001b[0;32m     31\u001b[0m     data_range \u001b[38;5;241m=\u001b[39m List([\u001b[38;5;241m0\u001b[39m, \u001b[38;5;241m1\u001b[39m])\u001b[38;5;241m.\u001b[39mtag(sync\u001b[38;5;241m=\u001b[39m\u001b[38;5;28;01mTrue\u001b[39;00m)\n\u001b[0;32m     32\u001b[0m     band_type \u001b[38;5;241m=\u001b[39m Enum(\n\u001b[0;32m     33\u001b[0m         [\u001b[38;5;124m\"\u001b[39m\u001b[38;5;124mcircle\u001b[39m\u001b[38;5;124m\"\u001b[39m, \u001b[38;5;124m\"\u001b[39m\u001b[38;5;124mpolygon\u001b[39m\u001b[38;5;124m\"\u001b[39m], default_value\u001b[38;5;241m=\u001b[39m\u001b[38;5;124m\"\u001b[39m\u001b[38;5;124mcircle\u001b[39m\u001b[38;5;124m\"\u001b[39m, allow_none\u001b[38;5;241m=\u001b[39m\u001b[38;5;28;01mTrue\u001b[39;00m\n\u001b[0;32m     34\u001b[0m     )\u001b[38;5;241m.\u001b[39mtag(sync\u001b[38;5;241m=\u001b[39m\u001b[38;5;28;01mTrue\u001b[39;00m)\n",
      "File \u001b[1;32m~\\miniconda3\\envs\\geo-gpu\\lib\\site-packages\\traittypes\\traittypes.py:188\u001b[0m, in \u001b[0;36mDataFrame.__init__\u001b[1;34m(self, default_value, allow_none, dtype, **kwargs)\u001b[0m\n\u001b[0;32m    186\u001b[0m     \u001b[38;5;28;01mimport\u001b[39;00m\u001b[38;5;250m \u001b[39m\u001b[38;5;21;01mpandas\u001b[39;00m\u001b[38;5;250m \u001b[39m\u001b[38;5;28;01mas\u001b[39;00m\u001b[38;5;250m \u001b[39m\u001b[38;5;21;01mpd\u001b[39;00m\n\u001b[0;32m    187\u001b[0m     kwargs[\u001b[38;5;124m'\u001b[39m\u001b[38;5;124mklass\u001b[39m\u001b[38;5;124m'\u001b[39m] \u001b[38;5;241m=\u001b[39m pd\u001b[38;5;241m.\u001b[39mDataFrame\n\u001b[1;32m--> 188\u001b[0m \u001b[38;5;28msuper\u001b[39m(DataFrame, \u001b[38;5;28mself\u001b[39m)\u001b[38;5;241m.\u001b[39m\u001b[38;5;21m__init__\u001b[39m(\n\u001b[0;32m    189\u001b[0m     default_value\u001b[38;5;241m=\u001b[39mdefault_value, allow_none\u001b[38;5;241m=\u001b[39mallow_none, dtype\u001b[38;5;241m=\u001b[39mdtype, \u001b[38;5;241m*\u001b[39m\u001b[38;5;241m*\u001b[39mkwargs)\n",
      "File \u001b[1;32m~\\miniconda3\\envs\\geo-gpu\\lib\\site-packages\\traittypes\\traittypes.py:166\u001b[0m, in \u001b[0;36mPandasType.__init__\u001b[1;34m(self, default_value, allow_none, klass, **kwargs)\u001b[0m\n\u001b[0;32m    163\u001b[0m     \u001b[38;5;28;01mraise\u001b[39;00m TraitError(\u001b[38;5;124m'\u001b[39m\u001b[38;5;124mThe klass attribute must be a class\u001b[39m\u001b[38;5;124m'\u001b[39m\n\u001b[0;32m    164\u001b[0m                         \u001b[38;5;124m'\u001b[39m\u001b[38;5;124m not: \u001b[39m\u001b[38;5;132;01m%r\u001b[39;00m\u001b[38;5;124m'\u001b[39m \u001b[38;5;241m%\u001b[39m klass)\n\u001b[0;32m    165\u001b[0m \u001b[38;5;28;01mif\u001b[39;00m default_value \u001b[38;5;129;01mis\u001b[39;00m Empty:\n\u001b[1;32m--> 166\u001b[0m     default_value \u001b[38;5;241m=\u001b[39m \u001b[43mklass\u001b[49m\u001b[43m(\u001b[49m\u001b[43m)\u001b[49m\n\u001b[0;32m    167\u001b[0m \u001b[38;5;28;01melif\u001b[39;00m default_value \u001b[38;5;129;01mis\u001b[39;00m \u001b[38;5;129;01mnot\u001b[39;00m \u001b[38;5;28;01mNone\u001b[39;00m \u001b[38;5;129;01mand\u001b[39;00m default_value \u001b[38;5;129;01mis\u001b[39;00m \u001b[38;5;129;01mnot\u001b[39;00m Undefined:\n\u001b[0;32m    168\u001b[0m     default_value \u001b[38;5;241m=\u001b[39m klass(default_value)\n",
      "File \u001b[1;32m~\\miniconda3\\envs\\geo-gpu\\lib\\site-packages\\pandas\\core\\frame.py:880\u001b[0m, in \u001b[0;36mDataFrame.__init__\u001b[1;34m(self, data, index, columns, dtype, copy)\u001b[0m\n\u001b[0;32m    871\u001b[0m             mgr \u001b[38;5;241m=\u001b[39m ndarray_to_mgr(\n\u001b[0;32m    872\u001b[0m                 data,\n\u001b[0;32m    873\u001b[0m                 index,\n\u001b[1;32m   (...)\u001b[0m\n\u001b[0;32m    877\u001b[0m                 typ\u001b[38;5;241m=\u001b[39mmanager,\n\u001b[0;32m    878\u001b[0m             )\n\u001b[0;32m    879\u001b[0m     \u001b[38;5;28;01melse\u001b[39;00m:\n\u001b[1;32m--> 880\u001b[0m         mgr \u001b[38;5;241m=\u001b[39m \u001b[43mdict_to_mgr\u001b[49m\u001b[43m(\u001b[49m\n\u001b[0;32m    881\u001b[0m \u001b[43m            \u001b[49m\u001b[43m{\u001b[49m\u001b[43m}\u001b[49m\u001b[43m,\u001b[49m\n\u001b[0;32m    882\u001b[0m \u001b[43m            \u001b[49m\u001b[43mindex\u001b[49m\u001b[43m,\u001b[49m\n\u001b[0;32m    883\u001b[0m \u001b[43m            \u001b[49m\u001b[43mcolumns\u001b[49m\u001b[43m \u001b[49m\u001b[38;5;28;43;01mif\u001b[39;49;00m\u001b[43m \u001b[49m\u001b[43mcolumns\u001b[49m\u001b[43m \u001b[49m\u001b[38;5;129;43;01mis\u001b[39;49;00m\u001b[43m \u001b[49m\u001b[38;5;129;43;01mnot\u001b[39;49;00m\u001b[43m \u001b[49m\u001b[38;5;28;43;01mNone\u001b[39;49;00m\u001b[43m \u001b[49m\u001b[38;5;28;43;01melse\u001b[39;49;00m\u001b[43m \u001b[49m\u001b[43mdefault_index\u001b[49m\u001b[43m(\u001b[49m\u001b[38;5;241;43m0\u001b[39;49m\u001b[43m)\u001b[49m\u001b[43m,\u001b[49m\n\u001b[0;32m    884\u001b[0m \u001b[43m            \u001b[49m\u001b[43mdtype\u001b[49m\u001b[38;5;241;43m=\u001b[39;49m\u001b[43mdtype\u001b[49m\u001b[43m,\u001b[49m\n\u001b[0;32m    885\u001b[0m \u001b[43m            \u001b[49m\u001b[43mtyp\u001b[49m\u001b[38;5;241;43m=\u001b[39;49m\u001b[43mmanager\u001b[49m\u001b[43m,\u001b[49m\n\u001b[0;32m    886\u001b[0m \u001b[43m        \u001b[49m\u001b[43m)\u001b[49m\n\u001b[0;32m    887\u001b[0m \u001b[38;5;66;03m# For data is scalar\u001b[39;00m\n\u001b[0;32m    888\u001b[0m \u001b[38;5;28;01melse\u001b[39;00m:\n\u001b[0;32m    889\u001b[0m     \u001b[38;5;28;01mif\u001b[39;00m index \u001b[38;5;129;01mis\u001b[39;00m \u001b[38;5;28;01mNone\u001b[39;00m \u001b[38;5;129;01mor\u001b[39;00m columns \u001b[38;5;129;01mis\u001b[39;00m \u001b[38;5;28;01mNone\u001b[39;00m:\n",
      "File \u001b[1;32m~\\miniconda3\\envs\\geo-gpu\\lib\\site-packages\\pandas\\core\\internals\\construction.py:444\u001b[0m, in \u001b[0;36mdict_to_mgr\u001b[1;34m(data, index, columns, dtype, typ, copy)\u001b[0m\n\u001b[0;32m    441\u001b[0m \u001b[38;5;28;01mfrom\u001b[39;00m\u001b[38;5;250m \u001b[39m\u001b[38;5;21;01mpandas\u001b[39;00m\u001b[38;5;21;01m.\u001b[39;00m\u001b[38;5;21;01mcore\u001b[39;00m\u001b[38;5;21;01m.\u001b[39;00m\u001b[38;5;21;01mseries\u001b[39;00m\u001b[38;5;250m \u001b[39m\u001b[38;5;28;01mimport\u001b[39;00m Series\n\u001b[0;32m    443\u001b[0m arrays \u001b[38;5;241m=\u001b[39m Series(data, index\u001b[38;5;241m=\u001b[39mcolumns, dtype\u001b[38;5;241m=\u001b[39m\u001b[38;5;28mobject\u001b[39m)\n\u001b[1;32m--> 444\u001b[0m missing \u001b[38;5;241m=\u001b[39m \u001b[43marrays\u001b[49m\u001b[38;5;241;43m.\u001b[39;49m\u001b[43misna\u001b[49m\u001b[43m(\u001b[49m\u001b[43m)\u001b[49m\n\u001b[0;32m    445\u001b[0m \u001b[38;5;28;01mif\u001b[39;00m index \u001b[38;5;129;01mis\u001b[39;00m \u001b[38;5;28;01mNone\u001b[39;00m:\n\u001b[0;32m    446\u001b[0m     \u001b[38;5;66;03m# GH10856\u001b[39;00m\n\u001b[0;32m    447\u001b[0m     \u001b[38;5;66;03m# raise ValueError if only scalars in dict\u001b[39;00m\n\u001b[0;32m    448\u001b[0m     index \u001b[38;5;241m=\u001b[39m _extract_index(arrays[\u001b[38;5;241m~\u001b[39mmissing])\n",
      "File \u001b[1;32m~\\miniconda3\\envs\\geo-gpu\\lib\\site-packages\\pandas\\core\\series.py:5794\u001b[0m, in \u001b[0;36mSeries.isna\u001b[1;34m(self)\u001b[0m\n\u001b[0;32m   5792\u001b[0m \u001b[38;5;129m@doc\u001b[39m(NDFrame\u001b[38;5;241m.\u001b[39misna, klass\u001b[38;5;241m=\u001b[39m_shared_doc_kwargs[\u001b[38;5;124m\"\u001b[39m\u001b[38;5;124mklass\u001b[39m\u001b[38;5;124m\"\u001b[39m])  \u001b[38;5;66;03m# type: ignore[has-type]\u001b[39;00m\n\u001b[0;32m   5793\u001b[0m \u001b[38;5;28;01mdef\u001b[39;00m\u001b[38;5;250m \u001b[39m\u001b[38;5;21misna\u001b[39m(\u001b[38;5;28mself\u001b[39m) \u001b[38;5;241m-\u001b[39m\u001b[38;5;241m>\u001b[39m Series:\n\u001b[1;32m-> 5794\u001b[0m     \u001b[38;5;28;01mreturn\u001b[39;00m \u001b[43mNDFrame\u001b[49m\u001b[38;5;241;43m.\u001b[39;49m\u001b[43misna\u001b[49m\u001b[43m(\u001b[49m\u001b[38;5;28;43mself\u001b[39;49m\u001b[43m)\u001b[49m\n",
      "File \u001b[1;32m~\\miniconda3\\envs\\geo-gpu\\lib\\site-packages\\pandas\\core\\generic.py:8781\u001b[0m, in \u001b[0;36mNDFrame.isna\u001b[1;34m(self)\u001b[0m\n\u001b[0;32m   8720\u001b[0m \u001b[38;5;129m@doc\u001b[39m(klass\u001b[38;5;241m=\u001b[39m_shared_doc_kwargs[\u001b[38;5;124m\"\u001b[39m\u001b[38;5;124mklass\u001b[39m\u001b[38;5;124m\"\u001b[39m])\n\u001b[0;32m   8721\u001b[0m \u001b[38;5;28;01mdef\u001b[39;00m\u001b[38;5;250m \u001b[39m\u001b[38;5;21misna\u001b[39m(\u001b[38;5;28mself\u001b[39m) \u001b[38;5;241m-\u001b[39m\u001b[38;5;241m>\u001b[39m Self:\n\u001b[0;32m   8722\u001b[0m \u001b[38;5;250m    \u001b[39m\u001b[38;5;124;03m\"\"\"\u001b[39;00m\n\u001b[0;32m   8723\u001b[0m \u001b[38;5;124;03m    Detect missing values.\u001b[39;00m\n\u001b[0;32m   8724\u001b[0m \n\u001b[1;32m   (...)\u001b[0m\n\u001b[0;32m   8779\u001b[0m \u001b[38;5;124;03m    dtype: bool\u001b[39;00m\n\u001b[0;32m   8780\u001b[0m \u001b[38;5;124;03m    \"\"\"\u001b[39;00m\n\u001b[1;32m-> 8781\u001b[0m     \u001b[38;5;28;01mreturn\u001b[39;00m \u001b[43misna\u001b[49m\u001b[43m(\u001b[49m\u001b[38;5;28;43mself\u001b[39;49m\u001b[43m)\u001b[49m\u001b[38;5;241m.\u001b[39m__finalize__(\u001b[38;5;28mself\u001b[39m, method\u001b[38;5;241m=\u001b[39m\u001b[38;5;124m\"\u001b[39m\u001b[38;5;124misna\u001b[39m\u001b[38;5;124m\"\u001b[39m)\n",
      "File \u001b[1;32m~\\miniconda3\\envs\\geo-gpu\\lib\\site-packages\\pandas\\core\\dtypes\\missing.py:178\u001b[0m, in \u001b[0;36misna\u001b[1;34m(obj)\u001b[0m\n\u001b[0;32m    101\u001b[0m \u001b[38;5;28;01mdef\u001b[39;00m\u001b[38;5;250m \u001b[39m\u001b[38;5;21misna\u001b[39m(obj: \u001b[38;5;28mobject\u001b[39m) \u001b[38;5;241m-\u001b[39m\u001b[38;5;241m>\u001b[39m \u001b[38;5;28mbool\u001b[39m \u001b[38;5;241m|\u001b[39m npt\u001b[38;5;241m.\u001b[39mNDArray[np\u001b[38;5;241m.\u001b[39mbool_] \u001b[38;5;241m|\u001b[39m NDFrame:\n\u001b[0;32m    102\u001b[0m \u001b[38;5;250m    \u001b[39m\u001b[38;5;124;03m\"\"\"\u001b[39;00m\n\u001b[0;32m    103\u001b[0m \u001b[38;5;124;03m    Detect missing values for an array-like object.\u001b[39;00m\n\u001b[0;32m    104\u001b[0m \n\u001b[1;32m   (...)\u001b[0m\n\u001b[0;32m    176\u001b[0m \u001b[38;5;124;03m    Name: 1, dtype: bool\u001b[39;00m\n\u001b[0;32m    177\u001b[0m \u001b[38;5;124;03m    \"\"\"\u001b[39;00m\n\u001b[1;32m--> 178\u001b[0m     \u001b[38;5;28;01mreturn\u001b[39;00m \u001b[43m_isna\u001b[49m\u001b[43m(\u001b[49m\u001b[43mobj\u001b[49m\u001b[43m)\u001b[49m\n",
      "File \u001b[1;32m~\\miniconda3\\envs\\geo-gpu\\lib\\site-packages\\pandas\\core\\dtypes\\missing.py:216\u001b[0m, in \u001b[0;36m_isna\u001b[1;34m(obj, inf_as_na)\u001b[0m\n\u001b[0;32m    213\u001b[0m     \u001b[38;5;28;01mreturn\u001b[39;00m _isna_array(obj\u001b[38;5;241m.\u001b[39m_values, inf_as_na\u001b[38;5;241m=\u001b[39minf_as_na)\n\u001b[0;32m    215\u001b[0m \u001b[38;5;28;01melif\u001b[39;00m \u001b[38;5;28misinstance\u001b[39m(obj, ABCSeries):\n\u001b[1;32m--> 216\u001b[0m     result \u001b[38;5;241m=\u001b[39m \u001b[43m_isna_array\u001b[49m\u001b[43m(\u001b[49m\u001b[43mobj\u001b[49m\u001b[38;5;241;43m.\u001b[39;49m\u001b[43m_values\u001b[49m\u001b[43m,\u001b[49m\u001b[43m \u001b[49m\u001b[43minf_as_na\u001b[49m\u001b[38;5;241;43m=\u001b[39;49m\u001b[43minf_as_na\u001b[49m\u001b[43m)\u001b[49m\n\u001b[0;32m    217\u001b[0m     \u001b[38;5;66;03m# box\u001b[39;00m\n\u001b[0;32m    218\u001b[0m     result \u001b[38;5;241m=\u001b[39m obj\u001b[38;5;241m.\u001b[39m_constructor(result, index\u001b[38;5;241m=\u001b[39mobj\u001b[38;5;241m.\u001b[39mindex, name\u001b[38;5;241m=\u001b[39mobj\u001b[38;5;241m.\u001b[39mname, copy\u001b[38;5;241m=\u001b[39m\u001b[38;5;28;01mFalse\u001b[39;00m)\n",
      "File \u001b[1;32m~\\miniconda3\\envs\\geo-gpu\\lib\\site-packages\\pandas\\core\\dtypes\\missing.py:292\u001b[0m, in \u001b[0;36m_isna_array\u001b[1;34m(values, inf_as_na)\u001b[0m\n\u001b[0;32m    290\u001b[0m     result \u001b[38;5;241m=\u001b[39m _isna_recarray_dtype(values, inf_as_na\u001b[38;5;241m=\u001b[39minf_as_na)\n\u001b[0;32m    291\u001b[0m \u001b[38;5;28;01melif\u001b[39;00m is_string_or_object_np_dtype(values\u001b[38;5;241m.\u001b[39mdtype):\n\u001b[1;32m--> 292\u001b[0m     result \u001b[38;5;241m=\u001b[39m \u001b[43m_isna_string_dtype\u001b[49m\u001b[43m(\u001b[49m\u001b[43mvalues\u001b[49m\u001b[43m,\u001b[49m\u001b[43m \u001b[49m\u001b[43minf_as_na\u001b[49m\u001b[38;5;241;43m=\u001b[39;49m\u001b[43minf_as_na\u001b[49m\u001b[43m)\u001b[49m\n\u001b[0;32m    293\u001b[0m \u001b[38;5;28;01melif\u001b[39;00m dtype\u001b[38;5;241m.\u001b[39mkind \u001b[38;5;129;01min\u001b[39;00m \u001b[38;5;124m\"\u001b[39m\u001b[38;5;124mmM\u001b[39m\u001b[38;5;124m\"\u001b[39m:\n\u001b[0;32m    294\u001b[0m     \u001b[38;5;66;03m# this is the NaT pattern\u001b[39;00m\n\u001b[0;32m    295\u001b[0m     result \u001b[38;5;241m=\u001b[39m values\u001b[38;5;241m.\u001b[39mview(\u001b[38;5;124m\"\u001b[39m\u001b[38;5;124mi8\u001b[39m\u001b[38;5;124m\"\u001b[39m) \u001b[38;5;241m==\u001b[39m iNaT\n",
      "File \u001b[1;32m~\\miniconda3\\envs\\geo-gpu\\lib\\site-packages\\pandas\\core\\dtypes\\missing.py:313\u001b[0m, in \u001b[0;36m_isna_string_dtype\u001b[1;34m(values, inf_as_na)\u001b[0m\n\u001b[0;32m    311\u001b[0m \u001b[38;5;28;01melse\u001b[39;00m:\n\u001b[0;32m    312\u001b[0m     \u001b[38;5;28;01mif\u001b[39;00m values\u001b[38;5;241m.\u001b[39mndim \u001b[38;5;129;01min\u001b[39;00m {\u001b[38;5;241m1\u001b[39m, \u001b[38;5;241m2\u001b[39m}:\n\u001b[1;32m--> 313\u001b[0m         result \u001b[38;5;241m=\u001b[39m \u001b[43mlibmissing\u001b[49m\u001b[38;5;241;43m.\u001b[39;49m\u001b[43misnaobj\u001b[49m\u001b[43m(\u001b[49m\u001b[43mvalues\u001b[49m\u001b[43m,\u001b[49m\u001b[43m \u001b[49m\u001b[43minf_as_na\u001b[49m\u001b[38;5;241;43m=\u001b[39;49m\u001b[43minf_as_na\u001b[49m\u001b[43m)\u001b[49m\n\u001b[0;32m    314\u001b[0m     \u001b[38;5;28;01melse\u001b[39;00m:\n\u001b[0;32m    315\u001b[0m         \u001b[38;5;66;03m# 0-D, reached via e.g. mask_missing\u001b[39;00m\n\u001b[0;32m    316\u001b[0m         result \u001b[38;5;241m=\u001b[39m libmissing\u001b[38;5;241m.\u001b[39misnaobj(values\u001b[38;5;241m.\u001b[39mravel(), inf_as_na\u001b[38;5;241m=\u001b[39minf_as_na)\n",
      "File \u001b[1;32mpandas/_libs/missing.pyx:185\u001b[0m, in \u001b[0;36mpandas._libs.missing.isnaobj\u001b[1;34m()\u001b[0m\n",
      "File \u001b[1;32mpandas/_libs/missing.pyx:212\u001b[0m, in \u001b[0;36mpandas._libs.missing.isnaobj\u001b[1;34m()\u001b[0m\n",
      "\u001b[1;31mSystemError\u001b[0m: ../numpy/_core/src/multiarray/iterators.c:192: bad argument to internal function"
     ]
    }
   ],
   "source": [
    "import ee\n",
    "import geemap.core as geemap"
   ]
  },
  {
   "cell_type": "code",
   "execution_count": 2,
   "id": "d54b3c8d-c2b8-4bac-99a6-2109d6640a95",
   "metadata": {
    "execution": {
     "iopub.execute_input": "2025-10-11T09:05:23.413983Z",
     "iopub.status.busy": "2025-10-11T09:05:23.413983Z",
     "iopub.status.idle": "2025-10-11T09:05:25.210006Z",
     "shell.execute_reply": "2025-10-11T09:05:25.209237Z",
     "shell.execute_reply.started": "2025-10-11T09:05:23.413983Z"
    }
   },
   "outputs": [],
   "source": [
    "ee.Authenticate()\n",
    "ee.Initialize(project='geospatial-343508')"
   ]
  },
  {
   "cell_type": "code",
   "execution_count": 3,
   "id": "d954b383-2a4a-4556-a520-b0fd77423b43",
   "metadata": {
    "execution": {
     "iopub.execute_input": "2025-10-11T09:05:26.212944Z",
     "iopub.status.busy": "2025-10-11T09:05:26.211944Z",
     "iopub.status.idle": "2025-10-11T09:05:26.225457Z",
     "shell.execute_reply": "2025-10-11T09:05:26.224455Z",
     "shell.execute_reply.started": "2025-10-11T09:05:26.212944Z"
    }
   },
   "outputs": [
    {
     "data": {
      "text/plain": [
       "<ee.image.Image at 0x24bf7f2dea0>"
      ]
     },
     "execution_count": 3,
     "metadata": {},
     "output_type": "execute_result"
    }
   ],
   "source": [
    "jan_2023_climate = (\n",
    "    ee.ImageCollection('ECMWF/ERA5_LAND/MONTHLY_AGGR')\n",
    "    .filterDate('2023-01', '2023-02')\n",
    "    .first()\n",
    ")\n",
    "jan_2023_climate"
   ]
  },
  {
   "cell_type": "code",
   "execution_count": 4,
   "id": "d936de9d-37d2-4360-9d63-a85d5caf48a6",
   "metadata": {
    "execution": {
     "iopub.execute_input": "2025-10-11T09:05:27.315916Z",
     "iopub.status.busy": "2025-10-11T09:05:27.314916Z",
     "iopub.status.idle": "2025-10-11T09:05:27.347770Z",
     "shell.execute_reply": "2025-10-11T09:05:27.347770Z",
     "shell.execute_reply.started": "2025-10-11T09:05:27.315916Z"
    }
   },
   "outputs": [
    {
     "ename": "NameError",
     "evalue": "name 'geemap' is not defined",
     "output_type": "error",
     "traceback": [
      "\u001b[1;31m---------------------------------------------------------------------------\u001b[0m",
      "\u001b[1;31mNameError\u001b[0m                                 Traceback (most recent call last)",
      "Cell \u001b[1;32mIn[4], line 1\u001b[0m\n\u001b[1;32m----> 1\u001b[0m m \u001b[38;5;241m=\u001b[39m \u001b[43mgeemap\u001b[49m\u001b[38;5;241m.\u001b[39mMap(center\u001b[38;5;241m=\u001b[39m[\u001b[38;5;241m30\u001b[39m, \u001b[38;5;241m0\u001b[39m], zoom\u001b[38;5;241m=\u001b[39m\u001b[38;5;241m2\u001b[39m)\n\u001b[0;32m      3\u001b[0m vis_params \u001b[38;5;241m=\u001b[39m {\n\u001b[0;32m      4\u001b[0m     \u001b[38;5;124m'\u001b[39m\u001b[38;5;124mbands\u001b[39m\u001b[38;5;124m'\u001b[39m: [\u001b[38;5;124m'\u001b[39m\u001b[38;5;124mtemperature_2m\u001b[39m\u001b[38;5;124m'\u001b[39m],\n\u001b[0;32m      5\u001b[0m     \u001b[38;5;124m'\u001b[39m\u001b[38;5;124mmin\u001b[39m\u001b[38;5;124m'\u001b[39m: \u001b[38;5;241m229\u001b[39m,\n\u001b[0;32m      6\u001b[0m     \u001b[38;5;124m'\u001b[39m\u001b[38;5;124mmax\u001b[39m\u001b[38;5;124m'\u001b[39m: \u001b[38;5;241m304\u001b[39m,\n\u001b[0;32m      7\u001b[0m     \u001b[38;5;124m'\u001b[39m\u001b[38;5;124mpalette\u001b[39m\u001b[38;5;124m'\u001b[39m: \u001b[38;5;124m'\u001b[39m\u001b[38;5;124minferno\u001b[39m\u001b[38;5;124m'\u001b[39m,\n\u001b[0;32m      8\u001b[0m }\n\u001b[0;32m      9\u001b[0m m\u001b[38;5;241m.\u001b[39madd_layer(jan_2023_climate, vis_params, \u001b[38;5;124m'\u001b[39m\u001b[38;5;124mTemperature (K)\u001b[39m\u001b[38;5;124m'\u001b[39m)\n",
      "\u001b[1;31mNameError\u001b[0m: name 'geemap' is not defined"
     ]
    }
   ],
   "source": [
    "m = geemap.Map(center=[30, 0], zoom=2)\n",
    "\n",
    "vis_params = {\n",
    "    'bands': ['temperature_2m'],\n",
    "    'min': 229,\n",
    "    'max': 304,\n",
    "    'palette': 'inferno',\n",
    "}\n",
    "m.add_layer(jan_2023_climate, vis_params, 'Temperature (K)')\n",
    "m"
   ]
  },
  {
   "cell_type": "code",
   "execution_count": 5,
   "id": "d93bf3cc-8f23-4fa2-9d90-bd611c6ad4f5",
   "metadata": {
    "execution": {
     "iopub.execute_input": "2025-10-11T09:05:28.082691Z",
     "iopub.status.busy": "2025-10-11T09:05:28.082691Z",
     "iopub.status.idle": "2025-10-11T09:05:28.088138Z",
     "shell.execute_reply": "2025-10-11T09:05:28.088138Z",
     "shell.execute_reply.started": "2025-10-11T09:05:28.082691Z"
    }
   },
   "outputs": [],
   "source": [
    "import ipyleaflet"
   ]
  },
  {
   "cell_type": "code",
   "execution_count": 6,
   "id": "f248e1c2-6b53-435d-956d-71e29ae141bf",
   "metadata": {
    "execution": {
     "iopub.execute_input": "2025-09-01T11:26:02.547433Z",
     "iopub.status.busy": "2025-09-01T11:26:02.547433Z",
     "iopub.status.idle": "2025-09-01T11:26:02.570999Z",
     "shell.execute_reply": "2025-09-01T11:26:02.569620Z",
     "shell.execute_reply.started": "2025-09-01T11:26:02.547433Z"
    }
   },
   "outputs": [
    {
     "data": {
      "text/html": [
       "\n",
       "            <style>\n",
       "                .geemap-dark {\n",
       "                    --jp-widgets-color: white;\n",
       "                    --jp-widgets-label-color: white;\n",
       "                    --jp-ui-font-color1: white;\n",
       "                    --jp-layout-color2: #454545;\n",
       "                    background-color: #383838;\n",
       "                }\n",
       "\n",
       "                .geemap-dark .jupyter-button {\n",
       "                    --jp-layout-color3: #383838;\n",
       "                }\n",
       "\n",
       "                .geemap-colab {\n",
       "                    background-color: var(--colab-primary-surface-color, white);\n",
       "                }\n",
       "\n",
       "                .geemap-colab .jupyter-button {\n",
       "                    --jp-layout-color3: var(--colab-primary-surface-color, white);\n",
       "                }\n",
       "            </style>\n",
       "            "
      ],
      "text/plain": [
       "<IPython.core.display.HTML object>"
      ]
     },
     "metadata": {},
     "output_type": "display_data"
    },
    {
     "data": {
      "application/vnd.jupyter.widget-view+json": {
       "model_id": "686a11ef148b46e1993aabf3888ba019",
       "version_major": 2,
       "version_minor": 0
      },
      "text/plain": [
       "Map(center=[0.0, 0.0], controls=(ZoomControl(options=['position', 'zoom_in_text', 'zoom_in_title', 'zoom_out_t…"
      ]
     },
     "execution_count": 6,
     "metadata": {},
     "output_type": "execute_result"
    }
   ],
   "source": [
    "m = ipyleaflet.Map()\n",
    "m"
   ]
  },
  {
   "cell_type": "code",
   "execution_count": null,
   "id": "1eab666e-dd42-4801-9590-342529a8e5df",
   "metadata": {},
   "outputs": [],
   "source": []
  }
 ],
 "metadata": {
  "kernelspec": {
   "display_name": "Python [conda env:geo-gpu] *",
   "language": "python",
   "name": "conda-env-geo-gpu-py"
  },
  "language_info": {
   "codemirror_mode": {
    "name": "ipython",
    "version": 3
   },
   "file_extension": ".py",
   "mimetype": "text/x-python",
   "name": "python",
   "nbconvert_exporter": "python",
   "pygments_lexer": "ipython3",
   "version": "3.10.18"
  }
 },
 "nbformat": 4,
 "nbformat_minor": 5
}
